{
 "cells": [
  {
   "attachments": {},
   "cell_type": "markdown",
   "metadata": {},
   "source": [
    "## Bonusaufgabe 3\n"
   ]
  },
  {
   "attachments": {},
   "cell_type": "markdown",
   "metadata": {},
   "source": [
    "Convolutional Neural Networks (CNN) <br>\n",
    "CNN-Architekturen gehen ausdrücklich davon aus, dass es sich bei den Eingaben um Bilder handelt, was die Kodierung bestimmter Eigenschaften in der Modellarchitektur ermöglicht. \n",
    "<br>\n",
    "<br>\n",
    "Fully connected neural network <br>\n",
    "Ein voll vernetztes neuronales Netz besteht aus einer Reihe von voll verknüpften Schichten, die jedes Neuron in einer Schicht mit jedem Neuron in der anderen Schicht verbinden."
   ]
  },
  {
   "cell_type": "code",
   "execution_count": 99,
   "metadata": {},
   "outputs": [],
   "source": [
    "import numpy as np\n",
    "import pandas as pd\n",
    "import matplotlib.pyplot as plt\n",
    "import time\n",
    "import cv2\n",
    "from keras import Model\n",
    "from keras.models import Sequential\n",
    "from keras.layers import Conv2D, MaxPooling2D, Dropout, Flatten, Dense, Activation, BatchNormalization, concatenate\n",
    "from sklearn.model_selection import train_test_split\n",
    "from tensorflow.keras import Input\n",
    "import sklearn"
   ]
  },
  {
   "attachments": {},
   "cell_type": "markdown",
   "metadata": {},
   "source": [
    "### Datenladen\n",
    "\n",
    "#### csv daten"
   ]
  },
  {
   "cell_type": "code",
   "execution_count": 100,
   "metadata": {},
   "outputs": [
    {
     "data": {
      "text/html": [
       "<div>\n",
       "<style scoped>\n",
       "    .dataframe tbody tr th:only-of-type {\n",
       "        vertical-align: middle;\n",
       "    }\n",
       "\n",
       "    .dataframe tbody tr th {\n",
       "        vertical-align: top;\n",
       "    }\n",
       "\n",
       "    .dataframe thead th {\n",
       "        text-align: right;\n",
       "    }\n",
       "</style>\n",
       "<table border=\"1\" class=\"dataframe\">\n",
       "  <thead>\n",
       "    <tr style=\"text-align: right;\">\n",
       "      <th></th>\n",
       "      <th>image_id</th>\n",
       "      <th>street</th>\n",
       "      <th>citi</th>\n",
       "      <th>n_citi</th>\n",
       "      <th>bed</th>\n",
       "      <th>bath</th>\n",
       "      <th>sqft</th>\n",
       "      <th>price</th>\n",
       "    </tr>\n",
       "  </thead>\n",
       "  <tbody>\n",
       "    <tr>\n",
       "      <th>0</th>\n",
       "      <td>0</td>\n",
       "      <td>1317 Van Buren Avenue</td>\n",
       "      <td>Salton City, CA</td>\n",
       "      <td>317</td>\n",
       "      <td>3</td>\n",
       "      <td>2.0</td>\n",
       "      <td>1560</td>\n",
       "      <td>201900</td>\n",
       "    </tr>\n",
       "    <tr>\n",
       "      <th>1</th>\n",
       "      <td>1</td>\n",
       "      <td>124 C Street W</td>\n",
       "      <td>Brawley, CA</td>\n",
       "      <td>48</td>\n",
       "      <td>3</td>\n",
       "      <td>2.0</td>\n",
       "      <td>713</td>\n",
       "      <td>228500</td>\n",
       "    </tr>\n",
       "    <tr>\n",
       "      <th>2</th>\n",
       "      <td>2</td>\n",
       "      <td>2304 Clark Road</td>\n",
       "      <td>Imperial, CA</td>\n",
       "      <td>152</td>\n",
       "      <td>3</td>\n",
       "      <td>1.0</td>\n",
       "      <td>800</td>\n",
       "      <td>273950</td>\n",
       "    </tr>\n",
       "    <tr>\n",
       "      <th>3</th>\n",
       "      <td>3</td>\n",
       "      <td>755 Brawley Avenue</td>\n",
       "      <td>Brawley, CA</td>\n",
       "      <td>48</td>\n",
       "      <td>3</td>\n",
       "      <td>1.0</td>\n",
       "      <td>1082</td>\n",
       "      <td>350000</td>\n",
       "    </tr>\n",
       "    <tr>\n",
       "      <th>4</th>\n",
       "      <td>4</td>\n",
       "      <td>2207 R Carrillo Court</td>\n",
       "      <td>Calexico, CA</td>\n",
       "      <td>55</td>\n",
       "      <td>4</td>\n",
       "      <td>3.0</td>\n",
       "      <td>2547</td>\n",
       "      <td>385100</td>\n",
       "    </tr>\n",
       "    <tr>\n",
       "      <th>5</th>\n",
       "      <td>5</td>\n",
       "      <td>755 Brawley Avenue</td>\n",
       "      <td>Brawley, CA</td>\n",
       "      <td>48</td>\n",
       "      <td>3</td>\n",
       "      <td>1.0</td>\n",
       "      <td>1082</td>\n",
       "      <td>350000</td>\n",
       "    </tr>\n",
       "    <tr>\n",
       "      <th>6</th>\n",
       "      <td>6</td>\n",
       "      <td>1100 CAMILIA Street</td>\n",
       "      <td>Calexico, CA</td>\n",
       "      <td>55</td>\n",
       "      <td>4</td>\n",
       "      <td>3.0</td>\n",
       "      <td>2769</td>\n",
       "      <td>415000</td>\n",
       "    </tr>\n",
       "    <tr>\n",
       "      <th>7</th>\n",
       "      <td>7</td>\n",
       "      <td>803 Chaparral Court</td>\n",
       "      <td>Brawley, CA</td>\n",
       "      <td>48</td>\n",
       "      <td>5</td>\n",
       "      <td>2.1</td>\n",
       "      <td>2600</td>\n",
       "      <td>545000</td>\n",
       "    </tr>\n",
       "    <tr>\n",
       "      <th>8</th>\n",
       "      <td>8</td>\n",
       "      <td>803 Chaparral Court</td>\n",
       "      <td>Brawley, CA</td>\n",
       "      <td>48</td>\n",
       "      <td>5</td>\n",
       "      <td>2.1</td>\n",
       "      <td>2600</td>\n",
       "      <td>545000</td>\n",
       "    </tr>\n",
       "    <tr>\n",
       "      <th>9</th>\n",
       "      <td>9</td>\n",
       "      <td>2306 Lark Court</td>\n",
       "      <td>Salton City, CA</td>\n",
       "      <td>317</td>\n",
       "      <td>4</td>\n",
       "      <td>5.1</td>\n",
       "      <td>3932</td>\n",
       "      <td>690000</td>\n",
       "    </tr>\n",
       "  </tbody>\n",
       "</table>\n",
       "</div>"
      ],
      "text/plain": [
       "   image_id                 street             citi  n_citi  bed  bath  sqft  \\\n",
       "0         0  1317 Van Buren Avenue  Salton City, CA     317    3   2.0  1560   \n",
       "1         1         124 C Street W      Brawley, CA      48    3   2.0   713   \n",
       "2         2        2304 Clark Road     Imperial, CA     152    3   1.0   800   \n",
       "3         3     755 Brawley Avenue      Brawley, CA      48    3   1.0  1082   \n",
       "4         4  2207 R Carrillo Court     Calexico, CA      55    4   3.0  2547   \n",
       "5         5     755 Brawley Avenue      Brawley, CA      48    3   1.0  1082   \n",
       "6         6    1100 CAMILIA Street     Calexico, CA      55    4   3.0  2769   \n",
       "7         7    803 Chaparral Court      Brawley, CA      48    5   2.1  2600   \n",
       "8         8    803 Chaparral Court      Brawley, CA      48    5   2.1  2600   \n",
       "9         9        2306 Lark Court  Salton City, CA     317    4   5.1  3932   \n",
       "\n",
       "    price  \n",
       "0  201900  \n",
       "1  228500  \n",
       "2  273950  \n",
       "3  350000  \n",
       "4  385100  \n",
       "5  350000  \n",
       "6  415000  \n",
       "7  545000  \n",
       "8  545000  \n",
       "9  690000  "
      ]
     },
     "execution_count": 100,
     "metadata": {},
     "output_type": "execute_result"
    }
   ],
   "source": [
    "data = pd.read_csv('data\\socal2.csv')\n",
    "data.head(10)"
   ]
  },
  {
   "cell_type": "code",
   "execution_count": 106,
   "metadata": {},
   "outputs": [
    {
     "name": "stdout",
     "output_type": "stream",
     "text": [
      "   n_citi  bed  bath  sqft   price\n",
      "0     317    3   2.0  1560  201900\n",
      "1      48    3   2.0   713  228500\n",
      "2     152    3   1.0   800  273950\n",
      "3      48    3   1.0  1082  350000\n",
      "4      55    4   3.0  2547  385100\n",
      "(15474, 5)\n"
     ]
    }
   ],
   "source": [
    "#extracting continous values\n",
    "building_information=data[['n_citi','bed','bath','sqft','price']]\n",
    "print(building_information.head())\n",
    "print(building_information.shape)"
   ]
  },
  {
   "cell_type": "code",
   "execution_count": null,
   "metadata": {},
   "outputs": [],
   "source": [
    "bm=max(building_information['bed'])\n",
    "sqftm=max(building_information['sqft'])\n",
    "pricem=max(building_information['price'])\n",
    "bathm=max(building_information['bath'])\n",
    "citim=max(building_information['n_citi'])\n",
    "\n",
    "building_information['n_citi']=building_information['n_citi']/citim\n",
    "building_information['bed']=building_information['bed']/bm\n",
    "building_information['sqft']=building_information['sqft']/sqftm\n",
    "building_information['bath']=building_information['bath']/bathm\n",
    "building_information['price']=building_information['price']/pricem\n",
    "\n",
    "#building_information"
   ]
  },
  {
   "attachments": {},
   "cell_type": "markdown",
   "metadata": {},
   "source": [
    "#### Bilddaten"
   ]
  },
  {
   "cell_type": "code",
   "execution_count": 13,
   "metadata": {},
   "outputs": [],
   "source": [
    "#path = r'C:\\Users\\david\\Systeminhalte\\Documents\\Hochschule\\Semester5\\Advanced_Machine_Leaning\\Advanced_machine_learning\\data\\socal2\\pics\\10.jpg'\n",
    "#test = cv2.imread(path)\n",
    "#test_new = cv2.resize(test, (64,64))\n",
    "#plt.imshow(test_new)"
   ]
  },
  {
   "cell_type": "code",
   "execution_count": 100,
   "metadata": {},
   "outputs": [],
   "source": [
    "#import cv2\n",
    "#from pathlib import Path\n",
    "#from os import listdir\n",
    "#from os.path import isfile, join\n",
    "\n",
    "#path=r'C:/Users\\david\\Systeminhalte\\Documents\\Hochschule\\Semester5\\Advanced_Machine_Leaning\\Advanced_machine_learning\\data\\socal\\pics'\n",
    "#cnt = 0\n",
    "\n",
    "#onlyfiles = [ f for f in listdir(path) if isfile(join(path,f)) ]\n",
    "#images = np.empty(len(onlyfiles), dtype=object)\n",
    "#for n in range(0, len(onlyfiles)):\n",
    "#  images[n] = cv2.resize(cv2.imread( join(path,onlyfiles[n]) ), (64,64))\n",
    "#  cnt+=1\n",
    "\n",
    "#print(cnt)"
   ]
  },
  {
   "cell_type": "code",
   "execution_count": 102,
   "metadata": {},
   "outputs": [
    {
     "name": "stdout",
     "output_type": "stream",
     "text": [
      "No. of images:  15471\n"
     ]
    }
   ],
   "source": [
    "import os\n",
    "import cv2\n",
    "cnt=0\n",
    "images_path=r'data\\\\socal\\\\pics'\n",
    "X_house_images=np.zeros((15474,64,64,3),dtype='uint32')\n",
    "X_house_images_test=np.zeros((15474,64,64,3),dtype='uint32')\n",
    "\n",
    "for i in range(15474):\n",
    "    if os.path.exists(images_path+'/'+str(i)+'.jpg'):\n",
    "        sample=cv2.imread(images_path+'/'+str(i)+'.jpg')\n",
    "        imgs  = cv2.resize(sample, (64,64))\n",
    "        X_house_images[cnt]=imgs\n",
    "        cnt+=1\n",
    "    else:\n",
    "        continue\n",
    "    \n",
    "print(\"No. of images: \",cnt)\n",
    "X_house_images=X_house_images/255.0\n",
    "#X_house_images"
   ]
  },
  {
   "attachments": {},
   "cell_type": "markdown",
   "metadata": {},
   "source": [
    "### Modelle \n",
    "Es werden Modelle von SUBHAMNAGAR aus kaggle verwendet."
   ]
  },
  {
   "cell_type": "code",
   "execution_count": 8,
   "metadata": {},
   "outputs": [],
   "source": [
    "def create_ann(dim, regress=False):\n",
    "    # define our MLP network\n",
    "    model = Sequential()\n",
    "    model.add(Dense(8, input_dim=dim, activation=\"relu\"))\n",
    "    model.add(Dense(4, activation=\"relu\"))\n",
    "    # check to see if the regression node should be added\n",
    "    # return our model\n",
    "    return model"
   ]
  },
  {
   "cell_type": "code",
   "execution_count": 9,
   "metadata": {},
   "outputs": [],
   "source": [
    "def create_cnn(width, height, depth, filters=(16, 32, 64), regress=False):\n",
    "    # initialize the input shape and channel dimension, assuming\n",
    "    # TensorFlow/channels-last ordering\n",
    "    #inpute shape: (64,64,3)\n",
    "    inputShape = (height, width, depth)\n",
    "    chanDim = -1\n",
    "    # define the model input\n",
    "    inputs = Input(shape=inputShape)\n",
    "    # flatten the volume, then FC => RELU => BN => DROPOUT\n",
    "    x = Conv2D(16, (3, 3), padding=\"same\")(inputs)\n",
    "    x = Activation(\"relu\")(x)\n",
    "    x = BatchNormalization(axis=chanDim)(x)\n",
    "    x = MaxPooling2D(pool_size=(2, 2))(x)\n",
    "    \n",
    "    x = Conv2D(32, (3, 3), padding=\"same\")(x)\n",
    "    x = Activation(\"relu\")(x)\n",
    "    x = BatchNormalization(axis=chanDim)(x)\n",
    "    x = MaxPooling2D(pool_size=(2, 2))(x)\n",
    "    \n",
    "    x = Conv2D(64, (3, 3), padding=\"same\")(x)\n",
    "    x = Activation(\"relu\")(x)\n",
    "    x = BatchNormalization(axis=chanDim)(x)\n",
    "    x = MaxPooling2D(pool_size=(2, 2))(x)\n",
    "    \n",
    "    x = Flatten()(x)\n",
    "    x = Dense(16)(x)\n",
    "    x = Activation(\"relu\")(x)\n",
    "    x = BatchNormalization(axis=chanDim)(x)\n",
    "    x = Dropout(0.5)(x)\n",
    "\n",
    "    x = Dense(4)(x)\n",
    "    x = Activation(\"relu\")(x)\n",
    "    # construct the CNN\n",
    "    model = Model(inputs, x)\n",
    "    # return the CNN\n",
    "    return model"
   ]
  },
  {
   "cell_type": "code",
   "execution_count": 81,
   "metadata": {},
   "outputs": [],
   "source": [
    "split = train_test_split(building_information, X_house_images, test_size=0.25, random_state=42)\n",
    "(Xatt_train,Xatt_test,Ximage_train,Ximage_test) = split\n",
    "\n",
    "y_train , y_test = Xatt_train['price'].values , Xatt_test['price'].values\n",
    "\n",
    "X1_train=Xatt_train[['n_citi','bed','bath','sqft']].values\n",
    "X2_train=Ximage_train\n",
    "X1_test=Xatt_test[['n_citi','bed','bath','sqft']].values\n",
    "X2_test=Ximage_test\n",
    "\n",
    "#print(X1_train.shape)\n",
    "#print(X1_test.shape)\n",
    "#print(X2_train.shape)\n",
    "#print(X2_test.shape)\n",
    "#print(y_train.shape)\n",
    "#print(y_test.shape)"
   ]
  },
  {
   "cell_type": "code",
   "execution_count": 11,
   "metadata": {},
   "outputs": [],
   "source": [
    "# create the MLP and CNN models\n",
    "mlp = create_ann(X1_train.shape[1], regress=False)\n",
    "cnn = create_cnn(64, 64, 3, regress=False)\n",
    "combinedInput = concatenate([mlp.output, cnn.output])\n",
    "\n",
    "x = Dense(4, activation=\"relu\")(combinedInput)\n",
    "x = Dense(1, activation=\"linear\")(x)\n"
   ]
  },
  {
   "attachments": {},
   "cell_type": "markdown",
   "metadata": {},
   "source": [
    "### Was ist loss und val_loss \n",
    "\n",
    "Beim Deep Learning ist der Verlust der Wert, den ein neuronales Netzwerk zu minimieren versucht: Es ist der Abstand zwischen der Grundwahrheit und den Vorhersagen. Um diesen Abstand zu minimieren, lernt das neuronale Netzwerk, indem es Gewichte und Verzerrungen so anpasst, dass der Verlust reduziert wird. \n",
    "loss und val_loss unterscheiden sich darin, dass ersteres auf die Trainingsmenge und letzteres auf die Testmenge angewendet wird. Letzteres ist daher ein guter Hinweis darauf, wie das Modell bei ungesehenen Daten abschneidet.\n",
    "\n",
    "### Was ist eine Epoche\n",
    "\n",
    "In Bezug auf künstliche neuronale Netze bezieht sich eine Epoche auf einen Zyklus durch den gesamten Trainingsdatensatz. Normalerweise dauert das Training eines neuronalen Netzes mehr als ein paar Epochen. Mit anderen Worten, wenn wir ein neuronales Netz mit den Trainingsdaten für mehr als eine Epoche in verschiedenen Mustern füttern, hoffen wir auf eine bessere Verallgemeinerung, wenn wir eine neue \"ungesehene\" Eingabe (Testdaten) erhalten\n"
   ]
  },
  {
   "cell_type": "code",
   "execution_count": 12,
   "metadata": {},
   "outputs": [
    {
     "name": "stderr",
     "output_type": "stream",
     "text": [
      "c:\\Users\\david\\AppData\\Local\\Programs\\Python\\Python39\\lib\\site-packages\\keras\\optimizers\\optimizer_v2\\adam.py:117: UserWarning: The `lr` argument is deprecated, use `learning_rate` instead.\n",
      "  super().__init__(name, **kwargs)\n"
     ]
    },
    {
     "name": "stdout",
     "output_type": "stream",
     "text": [
      "[INFO] training model...\n",
      "Epoch 1/50\n",
      "182/182 [==============================] - 56s 281ms/step - loss: 0.1421 - val_loss: 0.1648\n",
      "Epoch 2/50\n",
      "182/182 [==============================] - 47s 256ms/step - loss: 0.0612 - val_loss: 2.4228\n",
      "Epoch 3/50\n",
      "182/182 [==============================] - 46s 252ms/step - loss: 0.0434 - val_loss: 0.1722\n",
      "Epoch 4/50\n",
      "182/182 [==============================] - 53s 291ms/step - loss: 0.0372 - val_loss: 2.3098\n",
      "Epoch 5/50\n",
      "182/182 [==============================] - 51s 281ms/step - loss: 0.0355 - val_loss: 6.7826\n",
      "Epoch 6/50\n",
      "182/182 [==============================] - 46s 252ms/step - loss: 0.0355 - val_loss: 10.1587\n",
      "Epoch 7/50\n",
      "182/182 [==============================] - 51s 279ms/step - loss: 0.0354 - val_loss: 14.6423\n",
      "Epoch 8/50\n",
      "182/182 [==============================] - 44s 242ms/step - loss: 0.0354 - val_loss: 12.3734\n",
      "Epoch 9/50\n",
      "182/182 [==============================] - 43s 238ms/step - loss: 0.0354 - val_loss: 12.7287\n",
      "Epoch 10/50\n",
      "182/182 [==============================] - 42s 229ms/step - loss: 0.0353 - val_loss: 11.0904\n",
      "Epoch 11/50\n",
      "182/182 [==============================] - 40s 221ms/step - loss: 0.0355 - val_loss: 4.6069\n",
      "Epoch 12/50\n",
      "182/182 [==============================] - 43s 238ms/step - loss: 0.0353 - val_loss: 4.9394\n",
      "Epoch 13/50\n",
      "182/182 [==============================] - 43s 234ms/step - loss: 0.0353 - val_loss: 7.9564\n",
      "Epoch 14/50\n",
      "182/182 [==============================] - 39s 216ms/step - loss: 0.0353 - val_loss: 5.7389\n",
      "Epoch 15/50\n",
      "182/182 [==============================] - 40s 220ms/step - loss: 0.0354 - val_loss: 10.5098\n",
      "Epoch 16/50\n",
      "182/182 [==============================] - 40s 222ms/step - loss: 0.0353 - val_loss: 6.8911\n",
      "Epoch 17/50\n",
      "182/182 [==============================] - 40s 217ms/step - loss: 0.0353 - val_loss: 51.7262\n",
      "Epoch 18/50\n",
      "182/182 [==============================] - 41s 226ms/step - loss: 0.0354 - val_loss: 11.2320\n",
      "Epoch 19/50\n",
      "182/182 [==============================] - 41s 227ms/step - loss: 0.0354 - val_loss: 9.8065\n",
      "Epoch 20/50\n",
      "182/182 [==============================] - 41s 226ms/step - loss: 0.0354 - val_loss: 7.3474\n",
      "Epoch 21/50\n",
      "182/182 [==============================] - 42s 232ms/step - loss: 0.0353 - val_loss: 3.6595\n",
      "Epoch 22/50\n",
      "182/182 [==============================] - 42s 231ms/step - loss: 0.0353 - val_loss: 5.3568\n",
      "Epoch 23/50\n",
      "182/182 [==============================] - 41s 227ms/step - loss: 0.0353 - val_loss: 5.1687\n",
      "Epoch 24/50\n",
      "182/182 [==============================] - 40s 218ms/step - loss: 0.0352 - val_loss: 4.2891\n",
      "Epoch 25/50\n",
      "182/182 [==============================] - 39s 217ms/step - loss: 0.0353 - val_loss: 0.0360\n",
      "Epoch 26/50\n",
      "182/182 [==============================] - 40s 221ms/step - loss: 0.0352 - val_loss: 0.0362\n",
      "Epoch 27/50\n",
      "182/182 [==============================] - 43s 237ms/step - loss: 0.0352 - val_loss: 0.0361\n",
      "Epoch 28/50\n",
      "182/182 [==============================] - 43s 234ms/step - loss: 0.0352 - val_loss: 0.0362\n",
      "Epoch 29/50\n",
      "182/182 [==============================] - 43s 238ms/step - loss: 0.0352 - val_loss: 0.0361\n",
      "Epoch 30/50\n",
      "182/182 [==============================] - 41s 225ms/step - loss: 0.0352 - val_loss: 0.8915\n",
      "Epoch 31/50\n",
      "182/182 [==============================] - 41s 226ms/step - loss: 0.0351 - val_loss: 0.0720\n",
      "Epoch 32/50\n",
      "182/182 [==============================] - 41s 225ms/step - loss: 0.0350 - val_loss: 0.0637\n",
      "Epoch 33/50\n",
      "182/182 [==============================] - 40s 221ms/step - loss: 0.0297 - val_loss: 0.0269\n",
      "Epoch 34/50\n",
      "182/182 [==============================] - 41s 227ms/step - loss: 0.0252 - val_loss: 0.0250\n",
      "Epoch 35/50\n",
      "182/182 [==============================] - 41s 226ms/step - loss: 0.0240 - val_loss: 0.2418\n",
      "Epoch 36/50\n",
      "182/182 [==============================] - 40s 221ms/step - loss: 0.0236 - val_loss: 1.1401\n",
      "Epoch 37/50\n",
      "182/182 [==============================] - 41s 223ms/step - loss: 0.0235 - val_loss: 0.0244\n",
      "Epoch 38/50\n",
      "182/182 [==============================] - 42s 232ms/step - loss: 0.0232 - val_loss: 0.0249\n",
      "Epoch 39/50\n",
      "182/182 [==============================] - 41s 223ms/step - loss: 0.0232 - val_loss: 0.0418\n",
      "Epoch 40/50\n",
      "182/182 [==============================] - 41s 225ms/step - loss: 0.0232 - val_loss: 0.0573\n",
      "Epoch 41/50\n",
      "182/182 [==============================] - 47s 258ms/step - loss: 0.0232 - val_loss: 0.0916\n",
      "Epoch 42/50\n",
      "182/182 [==============================] - 40s 218ms/step - loss: 0.0231 - val_loss: 0.2191\n",
      "Epoch 43/50\n",
      "182/182 [==============================] - 39s 215ms/step - loss: 0.0231 - val_loss: 0.1896\n",
      "Epoch 44/50\n",
      "182/182 [==============================] - 40s 217ms/step - loss: 0.0230 - val_loss: 0.0947\n",
      "Epoch 45/50\n",
      "182/182 [==============================] - 40s 222ms/step - loss: 0.0229 - val_loss: 0.0395\n",
      "Epoch 46/50\n",
      "182/182 [==============================] - 41s 224ms/step - loss: 0.0229 - val_loss: 0.0491\n",
      "Epoch 47/50\n",
      "182/182 [==============================] - 40s 219ms/step - loss: 0.0229 - val_loss: 0.1969\n",
      "Epoch 48/50\n",
      "182/182 [==============================] - 40s 218ms/step - loss: 0.0228 - val_loss: 0.0354\n",
      "Epoch 49/50\n",
      "182/182 [==============================] - 39s 217ms/step - loss: 0.0227 - val_loss: 0.0435\n",
      "Epoch 50/50\n",
      "182/182 [==============================] - 39s 216ms/step - loss: 0.0227 - val_loss: 0.0549\n"
     ]
    },
    {
     "data": {
      "text/plain": [
       "<keras.callbacks.History at 0x1ca63aa8af0>"
      ]
     },
     "execution_count": 12,
     "metadata": {},
     "output_type": "execute_result"
    }
   ],
   "source": [
    "from keras.optimizers import Adam\n",
    "model = Model(inputs=[mlp.input, cnn.input], outputs=x)\n",
    "opt = Adam(lr=1e-3, decay=1e-3 / 200)\n",
    "model.compile(loss=\"mse\", optimizer=opt)\n",
    "# train the model\n",
    "print(\"[INFO] training model...\")\n",
    "\n",
    "model.fit(x=[X1_train,X2_train], y=y_train,validation_data=([X1_test, X2_test], y_test),epochs=50, batch_size=64)"
   ]
  },
  {
   "attachments": {},
   "cell_type": "markdown",
   "metadata": {},
   "source": [
    "### Vorhersage test"
   ]
  },
  {
   "cell_type": "code",
   "execution_count": 71,
   "metadata": {},
   "outputs": [
    {
     "name": "stdout",
     "output_type": "stream",
     "text": [
      "      image_id                street           citi  n_citi  bed  bath  sqft  \\\n",
      "1013      1013  43317 DENMORE Avenue  Lancaster, CA     193    4   3.0  2035   \n",
      "\n",
      "       price  \n",
      "1013  314900  \n"
     ]
    }
   ],
   "source": [
    "attr_sample=data.loc[data['image_id'] == 1013]\n",
    "print(attr_sample)"
   ]
  },
  {
   "cell_type": "code",
   "execution_count": 70,
   "metadata": {},
   "outputs": [
    {
     "data": {
      "text/plain": [
       "<matplotlib.image.AxesImage at 0x1ca66649400>"
      ]
     },
     "execution_count": 70,
     "metadata": {},
     "output_type": "execute_result"
    },
    {
     "data": {
      "image/png": "[encoded data removed]",
      "text/plain": [
       "<Figure size 640x480 with 1 Axes>"
      ]
     },
     "metadata": {},
     "output_type": "display_data"
    }
   ],
   "source": [
    "image_sample=cv2.imread(r'data\\socal\\pics\\1013.jpg')\n",
    "sample_resized=cv2.resize(image_sample,(64,64))\n",
    "plt.imshow(sample_resized)"
   ]
  },
  {
   "cell_type": "code",
   "execution_count": 93,
   "metadata": {},
   "outputs": [
    {
     "name": "stdout",
     "output_type": "stream",
     "text": [
      "(4,)   (64, 64, 3)\n",
      "1/1 [==============================] - 0s 155ms/step\n",
      "Actual price:  [314900]\n",
      "Predicted price:  [[208605.52787781]]\n"
     ]
    }
   ],
   "source": [
    "X1_final=np.zeros(4,dtype='float32')\n",
    "X1_final[0]=attr_sample['n_citi']/citim\n",
    "X1_final[1]=attr_sample['bed']/bm\n",
    "X1_final[2]=attr_sample['bath']/bathm\n",
    "X1_final[3]=attr_sample['sqft']/sqftm\n",
    "y_ground_truth=attr_sample['price']\n",
    "\n",
    "X2_final=sample_resized/255.0\n",
    "print(X1_final.shape,\" \",X2_final.shape)\n",
    "\n",
    "y_pred=model.predict([np.reshape(X1_final,(1,4)),np.reshape(X2_final,(1,64,64,3))])\n",
    "\n",
    "print(\"Actual price: \",attr_sample['price'].values)\n",
    "print(\"Predicted price: \",y_pred*pricem)"
   ]
  }
 ],
 "metadata": {
  "kernelspec": {
   "display_name": "Python 3",
   "language": "python",
   "name": "python3"
  },
  "language_info": {
   "codemirror_mode": {
    "name": "ipython",
    "version": 3
   },
   "file_extension": ".py",
   "mimetype": "text/x-python",
   "name": "python",
   "nbconvert_exporter": "python",
   "pygments_lexer": "ipython3",
   "version": "3.9.4"
  },
  "orig_nbformat": 4,
  "vscode": {
   "interpreter": {
    "hash": "72f235a78b5cf937fd09c1593b6a0e4473f824a03930b62c2c7d9a177b9de8f3"
   }
  }
 },
 "nbformat": 4,
 "nbformat_minor": 2
}
